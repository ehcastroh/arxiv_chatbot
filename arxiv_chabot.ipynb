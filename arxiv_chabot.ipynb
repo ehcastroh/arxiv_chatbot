{
 "cells": [
  {
   "cell_type": "markdown",
   "id": "2bea3937",
   "metadata": {},
   "source": [
    "# Arxiv Chatbot\n",
    "\n",
    "## Overview\n",
    "\n",
    "This project implements a chatbot system with integrated tool definitions and execution. The chatbot is designed as a simple but extensible example for understanding how conversational AI can be augmented with tools, via model context protocol (MCP) to perform tasks beyond basic dialogue."
   ]
  },
  {
   "cell_type": "markdown",
   "id": "38d0d981",
   "metadata": {},
   "source": [
    "## Import libraries"
   ]
  },
  {
   "cell_type": "code",
   "execution_count": 3,
   "id": "96367f27",
   "metadata": {},
   "outputs": [],
   "source": [
    "import arxiv\n",
    "import json\n",
    "import os\n",
    "from typing import List\n",
    "from dotenv import load_dotenv\n",
    "import anthropic"
   ]
  },
  {
   "cell_type": "code",
   "execution_count": null,
   "id": "41558b17",
   "metadata": {},
   "outputs": [],
   "source": []
  }
 ],
 "metadata": {
  "kernelspec": {
   "display_name": ".arxivvenv",
   "language": "python",
   "name": "python3"
  },
  "language_info": {
   "codemirror_mode": {
    "name": "ipython",
    "version": 3
   },
   "file_extension": ".py",
   "mimetype": "text/x-python",
   "name": "python",
   "nbconvert_exporter": "python",
   "pygments_lexer": "ipython3",
   "version": "3.11.7"
  }
 },
 "nbformat": 4,
 "nbformat_minor": 5
}
